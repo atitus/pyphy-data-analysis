{
 "cells": [
  {
   "cell_type": "markdown",
   "metadata": {},
   "source": [
    "# Young's Modulus"
   ]
  },
  {
   "cell_type": "markdown",
   "metadata": {},
   "source": [
    "In this notebook, you will learn how to graph data and do a linear curve fit to the data using Python. Using a programming language to read and analyze data is a technique you will use throughout your career as a scientist. (This is a *premier life skill* in science.)\n",
    "\n",
    "We are using a Google app called Colaboratory, or Colab for short. Google colab reads a Jupyter notebook file that has formatted text and runnable Python code in text and code cells, respectively."
   ]
  },
  {
   "cell_type": "markdown",
   "metadata": {},
   "source": [
    "# Save to Google Drive"
   ]
  },
  {
   "cell_type": "markdown",
   "metadata": {},
   "source": [
    "Before continuing, click the icon in the toolbar to `Copy to Drive`. This will copy the notebook to your Google Drive and will save it automatically as you work on it. **If you do not do this, then you will lose your work when closing the tab.**"
   ]
  },
  {
   "cell_type": "markdown",
   "metadata": {},
   "source": [
    "# Running Code in Colab"
   ]
  },
  {
   "cell_type": "markdown",
   "metadata": {},
   "source": [
    "To run a code cell in Google Colab, press `shift-enter` on your keyboard. (In other words, while holding down the `shift` key, press the `enter` or `return` key.) In fact, pressing shift-enter is one way to move downward, cell by cell through the notebook, running one code cell at a time.\n",
    "\n",
    "Start by clicking on the next code cell to import packages and pressing `shift-enter` on your keyboard. An icon will show you when the code in the cell finishes running. Then continue reading (and sometimes editing) and pressing `shift-enter` for each subsequent cell in the notebook."
   ]
  },
  {
   "cell_type": "markdown",
   "metadata": {},
   "source": [
    "# Import packages"
   ]
  },
  {
   "cell_type": "code",
   "execution_count": null,
   "metadata": {},
   "outputs": [],
   "source": [
    "import pandas as pd #used for reading and processing data\n",
    "import numpy as np #used for arrays\n",
    "import matplotlib.pyplot as plt #used for graphing\n",
    "from io import StringIO #used to convert a string to a pandas dataframe\n",
    "from IPython.display import YouTubeVideo #used to embed a YouTube video"
   ]
  },
  {
   "cell_type": "markdown",
   "metadata": {},
   "source": [
    "# Type Data Into a Code Cell\n",
    "\n",
    "In Google Colab, it is most convenient to type your data into a code cell, using commas to separate the data. Because Google Colab converts all tabs to spaces, it is best to use comma-delimited data."
   ]
  },
  {
   "cell_type": "markdown",
   "metadata": {},
   "source": [
    "Type your measured data into the cell below between the `\"\"\"` marks. Data is separated by commas **with no spaces**. The first row contains the headings for your data, in this case strain and stress. The numbers below are used for example. You should replace each row of data with your own data, and add additional rows as necessary."
   ]
  },
  {
   "cell_type": "code",
   "execution_count": null,
   "metadata": {},
   "outputs": [],
   "source": [
    "data = StringIO(\"\"\"stress (N/m^2),strain,uncertainty in strain\n",
    "1,2,0.22\n",
    "2,3,0.22\n",
    "3,4,0.22\n",
    "\"\"\") "
   ]
  },
  {
   "cell_type": "markdown",
   "metadata": {},
   "source": [
    "# Plot the strain as a function of stress."
   ]
  },
  {
   "cell_type": "code",
   "execution_count": null,
   "metadata": {},
   "outputs": [],
   "source": [
    "# read the data into a pandas dataframe\n",
    "df = pd.read_csv(data, sep=',')\n",
    "df.head()\n",
    "\n",
    "# assign variable names to the columns of data; these variables are lists\n",
    "stress = df['stress (N/m^2)']\n",
    "strain = df['strain']\n",
    "unc = df['uncertainty in strain']\n",
    "\n",
    "# plot data\n",
    "fig = plt.figure(figsize=(8,6))\n",
    "plt.title(\"strain vs. stress for a wire\")\n",
    "plt.xlabel('stress (N/m^2)')\n",
    "plt.ylabel('strain')\n",
    "plt.plot(stress, strain, 'bo')\n",
    "plt.grid(which='both', axis='both')\n",
    "plt.show()"
   ]
  },
  {
   "cell_type": "markdown",
   "metadata": {},
   "source": [
    "# Do a linear fit\n",
    "\n",
    "The numpy `polyfit(x,y,degree)` function takes data for the independent variable `x` and dependent variable `y` and returns a polynomial of the `degree` we want. The degree corresponds to the highest exponent of the independent variable. For example here are functions of degree 1, degree 2, and degree 3, respectively:\n",
    "\n",
    "$$\\mathrm{degree\\ 1:} \\qquad y = ax + b$$\n",
    "\n",
    "$$\\mathrm{degree\\ 2:} \\qquad y = ax^2 + bx + c$$\n",
    "\n",
    "$$\\mathrm{degree\\ 3:} \\qquad y = ax^3 + bx^2 + cx + d$$\n",
    "\n",
    "For a linear fit, we want degree 1. The function will return the values of the coefficients `a` and `b`, in this case. The slope is the coefficient `a`."
   ]
  },
  {
   "cell_type": "code",
   "execution_count": null,
   "metadata": {},
   "outputs": [],
   "source": [
    "# find the best-fit parameters\n",
    "a,b = np.polyfit(stress,strain,1) #1st degree polynomial fit\n",
    "\n",
    "# print the best-fit parameters\n",
    "print(\"Slope = \",a)\n",
    "print(\"Intercept = \",b)"
   ]
  },
  {
   "cell_type": "markdown",
   "metadata": {},
   "source": [
    "# Plot the best-fit line and data"
   ]
  },
  {
   "cell_type": "code",
   "execution_count": null,
   "metadata": {},
   "outputs": [],
   "source": [
    "# Calculate points for the line determined by the curve-fit parameters\n",
    "xfit = np.linspace(np.min(stress),np.max(stress),100) # dependent variable used for drawing a best-fit line\n",
    "yfit = a*xfit + b # independent variable used for drawing a best-fit line\n",
    "\n",
    "# Plot the best-fit line and the data on the same axes\n",
    "fig = plt.figure(figsize=(8,6))\n",
    "plt.title(\"strain vs. stress for a wire\")\n",
    "plt.xlabel('stress (N/m^2)')\n",
    "plt.ylabel('strain')\n",
    "plt.plot(stress, strain, 'bo')\n",
    "plt.plot(xfit, yfit, 'm-')\n",
    "plt.grid(which='both', axis='both')\n",
    "plt.show()"
   ]
  },
  {
   "cell_type": "markdown",
   "metadata": {},
   "source": [
    "# Error bars\n",
    "\n",
    "It is good scientific practice to draw error bars showing the uncertainty in your data. Watch [this short video](https://www.youtube.com/watch?v=u_gggKHvfGw) showing the position of a star orbiting the black hole at the center of the Milky Way galaxy. (Run the cell below to view the video in the notebook.)\n",
    "\n",
    "At the end of the video, notice the error bars on the measurements of the position of the star. The error bars give us confidence in the curve fit for the path of the star. Error bars (and uncertainty in general) is essential to reporting experimental results."
   ]
  },
  {
   "cell_type": "code",
   "execution_count": null,
   "metadata": {},
   "outputs": [],
   "source": [
    "#The shortened URL is https://youtu.be/tlfaKQqFpcA\n",
    "#Get the video_id from the YouTube URL\n",
    "YouTubeVideo('u_gggKHvfGw')"
   ]
  },
  {
   "cell_type": "markdown",
   "metadata": {},
   "source": [
    "# Plot error bars on your graph\n",
    "\n",
    "The uncertainty column in the dataset will be used to draw error bars."
   ]
  },
  {
   "cell_type": "code",
   "execution_count": null,
   "metadata": {},
   "outputs": [],
   "source": [
    "# Plot the best-fit line and the data on the same axes with error bars\n",
    "fig = plt.figure(figsize=(8,6))\n",
    "plt.title(\"strain vs. stress for a wire\")\n",
    "plt.xlabel('stress (N/m^2)')\n",
    "plt.ylabel('strain')\n",
    "plt.plot(xfit, yfit, 'm-')\n",
    "plt.errorbar(stress, strain, yerr=unc, marker='s', markerfacecolor='blue', markersize=6, capsize=4, ls='none')\n",
    "plt.grid(which='both', axis='both')\n",
    "plt.show()"
   ]
  },
  {
   "cell_type": "markdown",
   "metadata": {},
   "source": [
    "# Calculate Young's Modulus\n",
    "\n",
    "The slope was defined as the variable `a`. Use the slope to calculate Young's Modulus and print the result. You should use Python, not a calculator, to calculate Young's modulus. Write your calculation below and print the result."
   ]
  },
  {
   "cell_type": "code",
   "execution_count": null,
   "metadata": {},
   "outputs": [],
   "source": [
    "Y = 1/a\n",
    "print(Y)"
   ]
  },
  {
   "cell_type": "markdown",
   "metadata": {},
   "source": [
    "Although the slope is calculated to many decimal places, our measurement of the scale reading was to the nearest tenth of a mm. So the scale reading (2.7 mm in the first trial) was only known to two significant figures. Therefore, Young's modulus can only be reported to two significant figures.\n",
    "\n",
    "Here is an example of how to print a variable in scientific notation with one decimal place (two significant figures). Follow this example to print Young's modulus to two significant figures.\n",
    "\n",
    "```\n",
    "c = 299792458\n",
    "print(\"The speed of light to one decimal place is {:.1e}\".format(c))\n",
    "```"
   ]
  },
  {
   "cell_type": "code",
   "execution_count": null,
   "metadata": {},
   "outputs": [],
   "source": [
    "print(\"Young's modulus for brass = {:.1e} N/m^2\".format(Y))"
   ]
  },
  {
   "cell_type": "code",
   "execution_count": null,
   "metadata": {},
   "outputs": [],
   "source": []
  }
 ],
 "metadata": {
  "celltoolbar": "Create Assignment",
  "kernelspec": {
   "display_name": "Python 3",
   "language": "python",
   "name": "python3"
  },
  "language_info": {
   "codemirror_mode": {
    "name": "ipython",
    "version": 3
   },
   "file_extension": ".py",
   "mimetype": "text/x-python",
   "name": "python",
   "nbconvert_exporter": "python",
   "pygments_lexer": "ipython3",
   "version": "3.7.7"
  }
 },
 "nbformat": 4,
 "nbformat_minor": 4
}
