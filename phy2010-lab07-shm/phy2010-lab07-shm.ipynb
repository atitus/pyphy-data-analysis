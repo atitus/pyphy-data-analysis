{
 "cells": [
  {
   "cell_type": "markdown",
   "metadata": {},
   "source": [
    "# Simple Harmonic Motion"
   ]
  },
  {
   "cell_type": "markdown",
   "metadata": {},
   "source": [
    "In this notebook, you will learn how to calculate the mean and standard deviation of a row of trials in a data set, graph the data and do a linear curve fit to the data using Python. Using a programming language to read and analyze data is a technique you will use throughout your career as a scientist. (This is a *premier life skill* in science.)\n",
    "\n",
    "We are using a Google app called Colaboratory, or Colab for short. Google colab reads a Jupyter notebook file that has formatted text and runnable Python code in text and code cells, respectively."
   ]
  },
  {
   "cell_type": "markdown",
   "metadata": {},
   "source": [
    "# Save to Google Drive"
   ]
  },
  {
   "cell_type": "markdown",
   "metadata": {},
   "source": [
    "Before continuing, click the icon in the toolbar to `Copy to Drive`. This will copy the notebook to your Google Drive and will save it automatically as you work on it. **If you do not do this, then you will lose your work when closing the tab.**"
   ]
  },
  {
   "cell_type": "markdown",
   "metadata": {},
   "source": [
    "# Running Code in Colab"
   ]
  },
  {
   "cell_type": "markdown",
   "metadata": {},
   "source": [
    "To run a code cell in Google Colab, press `shift-enter` on your keyboard. (In other words, while holding down the `shift` key, press the `enter` or `return` key.) In fact, pressing shift-enter is one way to move downward, cell by cell through the notebook, running one code cell at a time.\n",
    "\n",
    "Start by clicking on the next code cell to import packages and pressing `shift-enter` on your keyboard. An icon will show you when the code in the cell finishes running. Then continue reading (and sometimes editing) and pressing `shift-enter` for each subsequent cell in the notebook."
   ]
  },
  {
   "cell_type": "markdown",
   "metadata": {},
   "source": [
    "# Import Packages"
   ]
  },
  {
   "cell_type": "code",
   "execution_count": null,
   "metadata": {},
   "outputs": [],
   "source": [
    "import pandas as pd #used for reading and processing data\n",
    "import numpy as np #used for arrays\n",
    "import matplotlib.pyplot as plt #used for graphing\n",
    "from io import StringIO #used to convert a string to a pandas dataframe\n",
    "from IPython.display import YouTubeVideo #used to embed a YouTube video"
   ]
  },
  {
   "cell_type": "markdown",
   "metadata": {},
   "source": [
    "# Part 2: Period as a Function of Amplitude"
   ]
  },
  {
   "cell_type": "markdown",
   "metadata": {},
   "source": [
    "If your first experiment, you measured period as a function of amplitude. You repeated each trial three times. Enter your data for the amplitude and the period for each trial in the code cell below. In first line, after the triple quotes, you will see the names of the columns, which are shown here as a reference.\n",
    "\n",
    "Trial 1: A (m) | Trial 1: T (s) | Trial 2: A (m) | Trial 2: T (s) | Trial 3: A (m) | Trial 3: T (s)\n",
    "--- | --- | --- | --- | --- | ---\n",
    " | | | | | |\n",
    "\n",
    "The data should be separated by commas. The rows of data in the cell below are shown as an example. You should replace those rows with your data and add new rows as necessary."
   ]
  },
  {
   "cell_type": "code",
   "execution_count": null,
   "metadata": {},
   "outputs": [],
   "source": [
    "data = StringIO(\"\"\"Trial 1: A (m),Trial 1: T (s),Trial 2: A (m),Trial 2: T (s),Trial 3: A (m),Trial 3: T (s)\n",
    "0.1,0.5,0.105,0.52,0.095,0.48\n",
    "0.2,0.5,0.205,0.51,0.195,0.49\n",
    "0.3,0.5,0.305,0.54,0.295,0.46\n",
    "\"\"\") "
   ]
  },
  {
   "cell_type": "markdown",
   "metadata": {},
   "source": [
    "Read the data into a *dataframe* and print the dataframe. (For large data sets, you would not want to print all of the rows of data.)"
   ]
  },
  {
   "cell_type": "code",
   "execution_count": null,
   "metadata": {},
   "outputs": [],
   "source": [
    "# read the data into a pandas dataframe\n",
    "df = pd.read_csv(data, sep=',')\n",
    "print(df)"
   ]
  },
  {
   "cell_type": "markdown",
   "metadata": {},
   "source": [
    "## Create Columns for Mean and Standard Deviation"
   ]
  },
  {
   "cell_type": "markdown",
   "metadata": {},
   "source": [
    "Run the program below to create four new columns for:\n",
    "\n",
    "- mean amplitude of the three trials\n",
    "- standard deviation of the mean amplitude\n",
    "- mean period of the three trials\n",
    "- standard deviation of the mean period\n",
    "\n",
    "To calculate the mean of columns of data, we will use the syntax `df.mean(axis=\"columns\")` where `df` is the dataframe object containing the data. The argument `axis=\"column\"` tells the function to find the mean of values in the same row (i.e. across columns). Likewise, the `df.std()` function calculates the standard deviation of the mean.\n",
    "\n",
    "Note that a particular column in the dataframe is referred to by column name. The mean amplitude column, std. amplitude column, mean period column, and std. period column are all given variables names: `Amean`, `Astd`, `Tmean`, and `Tstd`, respectively, so we can easily refer to these columns when graphing."
   ]
  },
  {
   "cell_type": "code",
   "execution_count": null,
   "metadata": {},
   "outputs": [],
   "source": [
    "# create a column for the mean amplitude\n",
    "df[\"Amean (m)\"] = df[[\"Trial 1: A (m)\", \"Trial 2: A (m)\", \"Trial 3: A (m)\"]].mean(axis=\"columns\")\n",
    "Amean = df[\"Amean (m)\"]\n",
    "\n",
    "# create a column for the standard deviation of the mean amplitude\n",
    "df[\"Astd (m)\"] = df[[\"Trial 1: A (m)\", \"Trial 2: A (m)\", \"Trial 3: A (m)\"]].std(axis=\"columns\")\n",
    "Astd = df[\"Astd (m)\"]\n",
    "\n",
    "#create a column for the mean period\n",
    "df[\"Tmean (s)\"] = df[[\"Trial 1: T (s)\", \"Trial 2: T (s)\", \"Trial 3: T (s)\"]].mean(axis=\"columns\")\n",
    "Tmean = df[\"Tmean (s)\"]\n",
    "\n",
    "#create a column for the standard deviation of the mean period\n",
    "df[\"Tstd (s)\"] = df[[\"Trial 1: T (s)\", \"Trial 2: T (s)\", \"Trial 3: T (s)\"]].std(axis=\"columns\")\n",
    "Tstd = df[\"Tstd (s)\"]\n",
    "\n",
    "print(df)"
   ]
  },
  {
   "cell_type": "markdown",
   "metadata": {},
   "source": [
    "## Plot Mean Period vs. Amplitude"
   ]
  },
  {
   "cell_type": "markdown",
   "metadata": {},
   "source": [
    "The code below plots the mean period vs. amplitude, using the standard deviation of the period for the error bars.\n",
    "\n",
    "**You should edit the code to add descriptive text for the title and axis labels.**"
   ]
  },
  {
   "cell_type": "code",
   "execution_count": null,
   "metadata": {},
   "outputs": [],
   "source": [
    "# plot data\n",
    "fig = plt.figure(figsize=(8,6))\n",
    "plt.title(\"\")\n",
    "plt.xlabel('')\n",
    "plt.ylabel('')\n",
    "plt.errorbar(Amean, Tmean, xerr=Astd, yerr=Tstd, marker='s', markerfacecolor='blue', markersize=6, capsize=4, ls='none')\n",
    "plt.grid(which='both', axis='both')\n",
    "plt.show()"
   ]
  },
  {
   "cell_type": "markdown",
   "metadata": {},
   "source": [
    "## Analysis"
   ]
  },
  {
   "cell_type": "markdown",
   "metadata": {},
   "source": [
    "Examine the graph of period vs. amplitude above. \n",
    "\n",
    "1. What do you notice about the graph? Is it linear or non-linear? Or is there no relationship between the variables?\n",
    "2. What can you conclude regarding how period depends on amplitude?"
   ]
  },
  {
   "cell_type": "markdown",
   "metadata": {},
   "source": [
    "## Exercise\n",
    "\n",
    "If you increase the amplitude of a mass-spring oscillator, what happens to the period? (Does it increase, decrease, or remain the same?)\n",
    "\n",
    "**This is a very important observation about a mass-spring oscillator.**"
   ]
  },
  {
   "cell_type": "markdown",
   "metadata": {},
   "source": [
    "# Part 3: Period as a Function of Mass"
   ]
  },
  {
   "cell_type": "markdown",
   "metadata": {},
   "source": [
    "**Our goal is to determine the stiffness $k_s$ of the spring using a curve-fit.** The relationship is\n",
    "\n",
    "$$T = 2\\pi \\sqrt{\\frac{m}{k_s}}$$\n",
    "\n",
    "You measured period (for multiple trials) for various masses oscillating on the spring. Enter your data into the code cell below. The column headings are:\n",
    "\n",
    "m (kg) | Trial 1: T (s) | Trial 2: T (s) | Trial 3: T (s)\n",
    "--- | --- | --- | ---\n",
    " | | |"
   ]
  },
  {
   "cell_type": "code",
   "execution_count": null,
   "metadata": {},
   "outputs": [],
   "source": [
    "data = StringIO(\"\"\"m (kg),Trial 1: T (s),Trial 2: T (s),Trial 3: T (s)\n",
    "0.1,0.5,0.52,0.48\n",
    "0.2,0.7,0.71,0.69\n",
    "0.3,0.87,0.84,0.90\n",
    "\"\"\")\n",
    "\n",
    "# read the data into a pandas dataframe\n",
    "df = pd.read_csv(data, sep=',')\n",
    "print(df)"
   ]
  },
  {
   "cell_type": "markdown",
   "metadata": {},
   "source": [
    "Calculate the mean and standard deviation of the period."
   ]
  },
  {
   "cell_type": "code",
   "execution_count": null,
   "metadata": {},
   "outputs": [],
   "source": [
    "# masses\n",
    "m = df[\"m (kg)\"]\n",
    "\n",
    "#create a column for the mean period\n",
    "df[\"Tmean (s)\"] = df[[\"Trial 1: T (s)\", \"Trial 2: T (s)\", \"Trial 3: T (s)\"]].mean(axis=\"columns\")\n",
    "Tmean = df[\"Tmean (s)\"]\n",
    "\n",
    "#create a column for the standard deviation of the mean\n",
    "df[\"Tstd (s)\"] = df[[\"Trial 1: T (s)\", \"Trial 2: T (s)\", \"Trial 3: T (s)\"]].std(axis=\"columns\")\n",
    "Tstd = df[\"Tstd (s)\"]\n",
    "\n",
    "print(df)"
   ]
  },
  {
   "cell_type": "markdown",
   "metadata": {},
   "source": [
    "## Plot Mean Period vs. Mass"
   ]
  },
  {
   "cell_type": "markdown",
   "metadata": {},
   "source": [
    "Copy and paste code from above and change whatever is necessary to plot the mean period vs. mass of the oscillator. Note that the variables are named `Tmean` and `m` in the code cell above."
   ]
  },
  {
   "cell_type": "code",
   "execution_count": null,
   "metadata": {},
   "outputs": [],
   "source": []
  },
  {
   "cell_type": "markdown",
   "metadata": {},
   "source": [
    "## Analyze the Graph"
   ]
  },
  {
   "cell_type": "markdown",
   "metadata": {},
   "source": [
    "Answer the questions below.\n",
    "\n",
    "1. Examine the graph of the mean period vs. mass. Does the relationship between period and mass seem to be linear or non-linear?\n",
    "\n",
    "2. The relationship between period and mass is derived from the Momentum Principle to be:\n",
    "  \n",
    "  $$T = 2\\pi \\sqrt{\\frac{m}{k_s}}$$\n",
    "\n",
    "  We can see from this relationship that $T$ is proportional to $\\sqrt{m}$. Let's write the proportionality in the form $T = a\\sqrt{m}$ where $a$ represents the *proportionality constant*.\n",
    "\n",
    "  $$T = \\frac{2\\pi}{\\sqrt{k_s}}\\sqrt{m}$$\n",
    "  \n",
    "  What is the constant $a$ in terms of $k_s$?\n",
    "  \n",
    "3. If you plot $T$ on the vertical axis and $\\sqrt{m}$ on the horizontal axis, the result will be a straight line since they are proportional. What will the slope be equal to?"
   ]
  },
  {
   "cell_type": "markdown",
   "metadata": {},
   "source": [
    "Copy the code for the graph above, paste it into the cell below, and change whatever is necessary to plot the mean period vs. square root of the mass. \n",
    "\n",
    "**Note:** The variable `m` represents the column of mass values. If you want to take the square root of the mass values, use the `numpy` square root function, like this:\n",
    "\n",
    "```\n",
    "np.sqrt(m)\n",
    "```"
   ]
  },
  {
   "cell_type": "code",
   "execution_count": null,
   "metadata": {},
   "outputs": [],
   "source": []
  },
  {
   "cell_type": "markdown",
   "metadata": {},
   "source": [
    "## Do a linear fit\n",
    "\n",
    "The numpy `polyfit(x,y,degree)` function takes data for the independent variable `x` and dependent variable `y` (in that order) and returns a polynomial of the `degree` we want. The degree corresponds to the highest exponent of the independent variable. For example here are functions of degree 1, degree 2, and degree 3, respectively:\n",
    "\n",
    "$$\\mathrm{degree\\ 1:} \\qquad y = ax + b$$\n",
    "\n",
    "$$\\mathrm{degree\\ 2:} \\qquad y = ax^2 + bx + c$$\n",
    "\n",
    "$$\\mathrm{degree\\ 3:} \\qquad y = ax^3 + bx^2 + cx + d$$\n",
    "\n",
    "For a linear fit, we want degree 1. The function will return the values of the coefficients `a` and `b`, in this case. The slope is the coefficient `a`."
   ]
  },
  {
   "cell_type": "code",
   "execution_count": null,
   "metadata": {},
   "outputs": [],
   "source": [
    "# find the best-fit parameters\n",
    "a,b = np.polyfit(np.sqrt(m),Tmean,1) #1st degree polynomial fit\n",
    "\n",
    "# print the best-fit parameters\n",
    "print(\"Slope = \",a)\n",
    "print(\"Intercept = \",b)\n"
   ]
  },
  {
   "cell_type": "markdown",
   "metadata": {},
   "source": [
    "## Plot the best-fit line and data"
   ]
  },
  {
   "cell_type": "markdown",
   "metadata": {},
   "source": [
    "The program below assumes the variable `a` is the slope."
   ]
  },
  {
   "cell_type": "code",
   "execution_count": null,
   "metadata": {},
   "outputs": [],
   "source": [
    "# Calculate points for the line determined by the curve-fit parameters\n",
    "xfit = np.linspace(np.min(np.sqrt(m)),np.max(np.sqrt(m)),100) # dependent variable used for drawing a best-fit line\n",
    "yfit = a*xfit + b # independent variable used for drawing a best-fit line\n",
    "\n",
    "\n",
    "# Plot the best-fit line and the data on the same axes\n",
    "fig = plt.figure(figsize=(8,6))\n",
    "plt.title(\"\")\n",
    "plt.xlabel('$\\sqrt{m}$ (kg$^{1/2}$)')\n",
    "plt.ylabel('Mean Period (s)')\n",
    "plt.plot(xfit, yfit, 'm-')\n",
    "plt.errorbar(np.sqrt(m), Tmean, yerr=Tstd, marker='.', markerfacecolor='blue', markersize=6, capsize=4, ls='none')\n",
    "plt.grid(which='both', axis='both')\n",
    "plt.show()"
   ]
  },
  {
   "cell_type": "markdown",
   "metadata": {},
   "source": [
    "## Calculate Spring Stiffness"
   ]
  },
  {
   "cell_type": "markdown",
   "metadata": {},
   "source": [
    "Use the slope (variable `a` in the program above) to calculate the stiffness of the spring, $k_s$. Your calculation should be in Python. For $\\pi$, use `np.pi`."
   ]
  },
  {
   "cell_type": "code",
   "execution_count": null,
   "metadata": {},
   "outputs": [],
   "source": []
  }
 ],
 "metadata": {
  "celltoolbar": "Create Assignment",
  "kernelspec": {
   "display_name": "Python 3",
   "language": "python",
   "name": "python3"
  },
  "language_info": {
   "codemirror_mode": {
    "name": "ipython",
    "version": 3
   },
   "file_extension": ".py",
   "mimetype": "text/x-python",
   "name": "python",
   "nbconvert_exporter": "python",
   "pygments_lexer": "ipython3",
   "version": "3.8.5"
  }
 },
 "nbformat": 4,
 "nbformat_minor": 4
}
