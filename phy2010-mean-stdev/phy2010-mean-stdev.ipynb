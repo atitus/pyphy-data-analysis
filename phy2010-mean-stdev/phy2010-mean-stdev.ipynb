{
 "cells": [
  {
   "cell_type": "markdown",
   "metadata": {},
   "source": [
    "# Mean and StDev"
   ]
  },
  {
   "cell_type": "markdown",
   "metadata": {},
   "source": [
    "In this notebook, you will learn how to calculate the mean and standard deviation of a row of trials in a data set. (This is a *premier life skill* in science.)\n",
    "\n",
    "We are using a Google app called Colaboratory, or Colab for short. Google colab reads a Jupyter notebook file that has formatted text and runnable Python code in text and code cells, respectively."
   ]
  },
  {
   "cell_type": "markdown",
   "metadata": {},
   "source": [
    "# Save to Google Drive"
   ]
  },
  {
   "cell_type": "markdown",
   "metadata": {},
   "source": [
    "Before continuing, click the icon in the toolbar to `Copy to Drive`. This will copy the notebook to your Google Drive and will save it automatically as you work on it. **If you do not do this, then you will lose your work when closing the tab.**"
   ]
  },
  {
   "cell_type": "markdown",
   "metadata": {},
   "source": [
    "# Running Code in Colab"
   ]
  },
  {
   "cell_type": "markdown",
   "metadata": {},
   "source": [
    "To run a code cell in Google Colab, press `shift-enter` on your keyboard. (In other words, while holding down the `shift` key, press the `enter` or `return` key.) In fact, pressing shift-enter is one way to move downward, cell by cell through the notebook, running one code cell at a time.\n",
    "\n",
    "Start by clicking on the next code cell to import packages and pressing `shift-enter` on your keyboard. An icon will show you when the code in the cell finishes running. Then continue reading (and sometimes editing) and pressing `shift-enter` for each subsequent cell in the notebook."
   ]
  },
  {
   "cell_type": "markdown",
   "metadata": {},
   "source": [
    "# Import Packages"
   ]
  },
  {
   "cell_type": "code",
   "execution_count": 4,
   "metadata": {},
   "outputs": [],
   "source": [
    "import pandas as pd #used for data analytics\n",
    "import numpy as np #used for arrays\n",
    "import matplotlib.pyplot as plt #used for graphing\n",
    "from io import StringIO #used to convert a string to a pandas dataframe"
   ]
  },
  {
   "cell_type": "markdown",
   "metadata": {},
   "source": [
    "## Data"
   ]
  },
  {
   "cell_type": "markdown",
   "metadata": {},
   "source": [
    "Each row is a trial and contains the measurement of a particular variable. The data below is an example. You should replace the value with your data."
   ]
  },
  {
   "cell_type": "code",
   "execution_count": 9,
   "metadata": {},
   "outputs": [],
   "source": [
    "data = StringIO(\"\"\"variable (unit)\n",
    "2.50\n",
    "2.40\n",
    "2.60\n",
    "2.70\n",
    "2.30\n",
    "\"\"\") "
   ]
  },
  {
   "cell_type": "markdown",
   "metadata": {},
   "source": [
    "Read the data into a *dataframe* and print the dataframe. (For large data sets, you would not want to print all of the rows of data.)"
   ]
  },
  {
   "cell_type": "code",
   "execution_count": 10,
   "metadata": {},
   "outputs": [
    {
     "name": "stdout",
     "output_type": "stream",
     "text": [
      "   variable (unit)\n",
      "0              2.5\n",
      "1              2.4\n",
      "2              2.6\n",
      "3              2.7\n",
      "4              2.3\n"
     ]
    }
   ],
   "source": [
    "# read the data into a pandas dataframe\n",
    "df = pd.read_csv(data, sep=',')\n",
    "print(df)"
   ]
  },
  {
   "cell_type": "markdown",
   "metadata": {},
   "source": [
    "## Calculate Mean and Standard Deviation"
   ]
  },
  {
   "cell_type": "markdown",
   "metadata": {},
   "source": [
    "To calculate the mean of a column of data, we will use the function `np.mean()`."
   ]
  },
  {
   "cell_type": "code",
   "execution_count": 13,
   "metadata": {},
   "outputs": [
    {
     "name": "stdout",
     "output_type": "stream",
     "text": [
      "Mean value =  2.5\n"
     ]
    }
   ],
   "source": [
    "var = df[\"variable (unit)\"]\n",
    "mean = np.mean(var)\n",
    "print(\"Mean value = \", mean)"
   ]
  },
  {
   "cell_type": "code",
   "execution_count": 15,
   "metadata": {},
   "outputs": [
    {
     "name": "stdout",
     "output_type": "stream",
     "text": [
      "Standard Deviation =  0.14142135623730964\n"
     ]
    }
   ],
   "source": [
    "stdev = np.std(var)\n",
    "print(\"Standard Deviation = \", stdev)"
   ]
  },
  {
   "cell_type": "code",
   "execution_count": null,
   "metadata": {},
   "outputs": [],
   "source": []
  }
 ],
 "metadata": {
  "celltoolbar": "Create Assignment",
  "kernelspec": {
   "display_name": "Python 3",
   "language": "python",
   "name": "python3"
  },
  "language_info": {
   "codemirror_mode": {
    "name": "ipython",
    "version": 3
   },
   "file_extension": ".py",
   "mimetype": "text/x-python",
   "name": "python",
   "nbconvert_exporter": "python",
   "pygments_lexer": "ipython3",
   "version": "3.8.3"
  }
 },
 "nbformat": 4,
 "nbformat_minor": 4
}
